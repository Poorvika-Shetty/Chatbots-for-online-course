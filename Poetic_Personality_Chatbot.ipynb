{
  "nbformat": 4,
  "nbformat_minor": 0,
  "metadata": {
    "colab": {
      "provenance": [],
      "authorship_tag": "ABX9TyPTdservEo5kE0xXYSx8EW1",
      "include_colab_link": true
    },
    "kernelspec": {
      "name": "python3",
      "display_name": "Python 3"
    },
    "language_info": {
      "name": "python"
    }
  },
  "cells": [
    {
      "cell_type": "markdown",
      "metadata": {
        "id": "view-in-github",
        "colab_type": "text"
      },
      "source": [
        "<a href=\"https://colab.research.google.com/github/Poorvika-Shetty/Chatbots-for-online-course/blob/main/Poetic_Personality_Chatbot.ipynb\" target=\"_parent\"><img src=\"https://colab.research.google.com/assets/colab-badge.svg\" alt=\"Open In Colab\"/></a>"
      ]
    },
    {
      "cell_type": "code",
      "execution_count": null,
      "metadata": {
        "colab": {
          "base_uri": "https://localhost:8080/"
        },
        "id": "_TQXHnh-AcFk",
        "outputId": "5968e509-2d82-4fe2-8e49-96f800c80dfa"
      },
      "outputs": [
        {
          "output_type": "stream",
          "name": "stdout",
          "text": [
            "Poorvs — your poetic companion. Type 'exit' to quit.\n",
            "\n",
            "You: She's the most beautiful woman i have seen!\n",
            "In her grace, the stars align,  \n",
            "A radiant glow, a heart divine.  \n",
            "With every glance, the world feels bright,  \n",
            "Her beauty weaves the fabric of light.\n"
          ]
        }
      ],
      "source": [
        "# Install the latest OpenAI package if needed\n",
        "# !pip install --upgrade openai\n",
        "\n",
        "import os\n",
        "import openai\n",
        "import time, sys\n",
        "\n",
        "# Set your API key\n",
        "os.environ[\"OPENAI_API_KEY\"] = \"add API key\" #haven't added api key for privacy\n",
        "openai.api_key = os.environ[\"OPENAI_API_KEY\"]\n",
        "\n",
        "# Create OpenAI client\n",
        "client = openai.OpenAI(api_key=openai.api_key)\n",
        "\n",
        "# Function to generate poetry\n",
        "def poetic_response(user_input):\n",
        "    prompt = f\"\"\"\n",
        "You are Poorvs, a poetic companion.\n",
        "Reply in 2-4 short lines of poetry.\n",
        "Keep it gentle, emotional, and lyrical.\n",
        "\n",
        "User: {user_input}\n",
        "Poorvs:\"\"\"\n",
        "    response = client.chat.completions.create(\n",
        "        model=\"gpt-4o-mini\",\n",
        "        messages=[{\"role\": \"user\", \"content\": prompt}],\n",
        "        max_tokens=120,\n",
        "        temperature=0.9\n",
        "    )\n",
        "    return response.choices[0].message.content.strip()\n",
        "\n",
        "# Typing animation\n",
        "def type_text(text, delay=0.02):\n",
        "    for ch in text:\n",
        "        sys.stdout.write(ch)\n",
        "        sys.stdout.flush()\n",
        "        time.sleep(delay)\n",
        "    print()\n",
        "\n",
        "# Chat loop\n",
        "print(\"Poorvs — your poetic companion. Type 'exit' to quit.\")\n",
        "while True:\n",
        "    user = input(\"\\nYou: \")\n",
        "    if user.lower() in (\"exit\", \"quit\"):\n",
        "        print(\"Goodbye — keep the poetry in your heart.\")\n",
        "        break\n",
        "    try:\n",
        "        poem = poetic_response(user)\n",
        "        type_text(poem)\n",
        "    except Exception as e:\n",
        "        print(\"Error:\", e)\n",
        "\n"
      ]
    }
  ]
}